{
 "cells": [
  {
   "metadata": {},
   "cell_type": "code",
   "outputs": [],
   "execution_count": null,
   "source": "",
   "id": "575adbcc9ad7ddc3"
  },
  {
   "metadata": {},
   "cell_type": "markdown",
   "source": [
    "# NumPy Array Concatenation Demo\n",
    "\n",
    "In this notebook, I will demo **NumPy array concatenation**, which is the process of combining two or more arrays into one.\n",
    "\n",
    "Function options include the `numpy.concatenate()` function or helper functions like `np.vstack()` (vertical stack) and `np.hstack()` (horizontal stack)\n",
    "This is useful when working with datasets that need to be merged or when reshaping data for machine learning tasks.\n"
   ],
   "id": "a32d097bb724af9a"
  },
  {
   "metadata": {
    "ExecuteTime": {
     "end_time": "2025-09-08T01:50:53.848747Z",
     "start_time": "2025-09-08T01:50:53.787266Z"
    }
   },
   "cell_type": "code",
   "source": "import numpy as np",
   "id": "324892d6fc6f4c6f",
   "outputs": [],
   "execution_count": 2
  },
  {
   "metadata": {
    "ExecuteTime": {
     "end_time": "2025-09-08T01:51:31.716706Z",
     "start_time": "2025-09-08T01:51:31.712886Z"
    }
   },
   "cell_type": "code",
   "source": [
    "# We'll use two simple 1D arrays\n",
    "a = np.array([1, 2, 3, 4])\n",
    "b = np.array([5, 6, 7, 8])\n",
    "\n",
    "#Contatinate the arrays\n",
    "concat_a_b = np.concatenate((a, b))\n",
    "print(concat_a_b)"
   ],
   "id": "9a7fd1d173f9b0c0",
   "outputs": [
    {
     "name": "stdout",
     "output_type": "stream",
     "text": [
      "[1 2 3 4 5 6 7 8]\n"
     ]
    }
   ],
   "execution_count": 4
  },
  {
   "metadata": {},
   "cell_type": "markdown",
   "source": [
    "### Explanation\n",
    "- `np.concatenate((a, b))` takes a tuple of arrays and joins them together.\n",
    "- By default, it works along the first axis (axis=0).\n",
    "- With 1D arrays, this just appends the second array to the first.\n"
   ],
   "id": "71d08836967494e3"
  },
  {
   "metadata": {
    "ExecuteTime": {
     "end_time": "2025-09-08T01:58:26.546875Z",
     "start_time": "2025-09-08T01:58:26.542485Z"
    }
   },
   "cell_type": "code",
   "source": [
    "# Example with 2D arrays\n",
    "x = np.array([[1,2],\n",
    "             [3,4]])\n",
    "\n",
    "y = np.array ([[5,6],\n",
    "              [7,8]])\n",
    "\n",
    "# Concatenate along rows (axis=0)\n",
    "concat_xy_rows = np.concatenate((x,y), axis=0)\n",
    "print(\"Concatenated rows:\\n\", concat_xy_rows)\n",
    "\n",
    "concat_xy_columns = np.concatenate((x,y), axis=1)\n",
    "print(\"Concatenated columns:\\n\",concat_xy_columns)"
   ],
   "id": "c0dac0603f62960c",
   "outputs": [
    {
     "name": "stdout",
     "output_type": "stream",
     "text": [
      "Concatenated rows:\n",
      " [[1 2]\n",
      " [3 4]\n",
      " [5 6]\n",
      " [7 8]]\n",
      "Concatenated columns:\n",
      " [[1 2 5 6]\n",
      " [3 4 7 8]]\n"
     ]
    }
   ],
   "execution_count": 9
  },
  {
   "metadata": {},
   "cell_type": "markdown",
   "source": [
    "### How Axis Works\n",
    "- **axis=0 (rows)**: stacks arrays on top of each other (more rows).\n",
    "- **axis=1 (columns)**: stacks arrays side by side (more columns).\n",
    "\n",
    "The arrays must have the same shape along the axis that is *not* being concatenated.\n",
    "For example, if concatenating along rows, the number of columns must match.\n"
   ],
   "id": "5f345a444bbe1d70"
  },
  {
   "metadata": {
    "ExecuteTime": {
     "end_time": "2025-09-08T02:01:24.937507Z",
     "start_time": "2025-09-08T02:01:24.934276Z"
    }
   },
   "cell_type": "code",
   "source": [
    "# Vertical stack (same as axis=0)\n",
    "vstack_result = np.vstack((x, y))\n",
    "print(\"Vertical stack (vstack):\\n\", vstack_result)\n",
    "\n",
    "# Horizontal stack (same as axis=1)\n",
    "hstack_result = np.hstack((x, y))\n",
    "print(\"Horizontal stack (hstack):\\n\", hstack_result)\n"
   ],
   "id": "8b8b8329d900043e",
   "outputs": [
    {
     "name": "stdout",
     "output_type": "stream",
     "text": [
      "Vertical stack (vstack):\n",
      " [[1 2]\n",
      " [3 4]\n",
      " [5 6]\n",
      " [7 8]]\n",
      "Horizontal stack (hstack):\n",
      " [[1 2 5 6]\n",
      " [3 4 7 8]]\n"
     ]
    }
   ],
   "execution_count": 11
  },
  {
   "metadata": {},
   "cell_type": "markdown",
   "source": [
    "## Summary\n",
    "\n",
    "- `np.concatenate()` combines arrays along a specified axis.\n",
    "- `np.vstack()` and `np.hstack()` are convenient shortcuts for common cases.\n",
    "- Concatenation is essential in tasks like **merging datasets, preparing training data**, or joining results after computations.\n",
    "\n",
    "This is a simple but powerful tool for managing data structures in NumPy.\n"
   ],
   "id": "62eacb3086cd0b9b"
  }
 ],
 "metadata": {
  "kernelspec": {
   "display_name": "Python 3",
   "language": "python",
   "name": "python3"
  },
  "language_info": {
   "codemirror_mode": {
    "name": "ipython",
    "version": 2
   },
   "file_extension": ".py",
   "mimetype": "text/x-python",
   "name": "python",
   "nbconvert_exporter": "python",
   "pygments_lexer": "ipython2",
   "version": "2.7.6"
  }
 },
 "nbformat": 4,
 "nbformat_minor": 5
}
