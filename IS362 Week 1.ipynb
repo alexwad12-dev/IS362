{
 "cells": [
  {
   "metadata": {},
   "cell_type": "markdown",
   "source": [
    "### Week 1 Homework\n",
    "The homework must be screenshots of your code from Jupyter Notebook pasted into [the HW1 - Python Basics doc] MS-WORD and include the Jupyter notebook as well as part of your submission.  As an example, just sending the Word document without the Jupyter notebook will receive 50% credit.\n"
   ],
   "id": "b1232a26654738e0"
  },
  {
   "metadata": {},
   "cell_type": "markdown",
   "source": "1) given input",
   "id": "b64e64898c49e14a"
  },
  {
   "cell_type": "code",
   "id": "initial_id",
   "metadata": {
    "collapsed": true,
    "ExecuteTime": {
     "end_time": "2025-08-31T14:33:01.904716Z",
     "start_time": "2025-08-31T14:33:01.900726Z"
    }
   },
   "source": [
    "one = 1\n",
    "\n",
    "two = 2\n",
    "\n",
    "three = 3\n",
    "\n",
    "four = 4\n",
    "\n",
    "can = \"can\"\n",
    "\n",
    "do = \"do\"\n",
    "\n",
    "python = \"python\"\n",
    "\n",
    "more = \"more\"\n",
    "\n",
    "print( one, two, three, four, can, do, python, more)"
   ],
   "outputs": [
    {
     "name": "stdout",
     "output_type": "stream",
     "text": [
      "1 2 3 4 can do python more\n"
     ]
    }
   ],
   "execution_count": 4
  },
  {
   "metadata": {},
   "cell_type": "markdown",
   "source": [
    "2)\n",
    "Based upon these numbers, please take a picture using the “Snip” function to show the code and output provide the given Input:\n",
    "\n",
    "Given Input:\n",
    "\n",
    "number1 = 15\n",
    "number2 = 30\n",
    "\n",
    "Expected output:\n",
    "\n",
    "The result is 450"
   ],
   "id": "6a07196e018a69a7"
  },
  {
   "metadata": {
    "ExecuteTime": {
     "end_time": "2025-08-31T14:38:14.537628Z",
     "start_time": "2025-08-31T14:38:14.535490Z"
    }
   },
   "cell_type": "code",
   "source": [
    "number1 = 15\n",
    "number2 = 30\n",
    "print(number1 * number2)"
   ],
   "id": "11bb0df53b9008ac",
   "outputs": [
    {
     "name": "stdout",
     "output_type": "stream",
     "text": [
      "450\n"
     ]
    }
   ],
   "execution_count": 5
  },
  {
   "metadata": {},
   "cell_type": "markdown",
   "source": [
    "# 3) Write a function to return True if the first and last number of a given list is same. If numbers are different then return False.\n",
    "\n",
    "Given input:\n",
    "\n",
    "numbers_x = [10, 20, 30, 40, 10]\n",
    "\n",
    "numbers_y = [75, 65, 35, 75, 30]\n",
    "\n",
    "Expected output:\n",
    "\n",
    "Given list: [10, 20, 30, 40, 10]\n",
    "\n",
    "result is True\n",
    "\n",
    "numbers_y = [75, 65, 35, 75, 30]\n",
    "\n",
    "result is False\n"
   ],
   "id": "25124c0f4f5ce1c8"
  },
  {
   "metadata": {
    "ExecuteTime": {
     "end_time": "2025-08-31T15:37:53.168888Z",
     "start_time": "2025-08-31T15:37:53.165158Z"
    }
   },
   "cell_type": "code",
   "source": [
    "numbers_x = [10, 20, 30, 40, 10]\n",
    "numbers_y = [75, 65, 35, 75, 30]\n",
    "print(\"Given list: \" + str(numbers_x))\n",
    "print(f\"\\nresult is {str(numbers_x[0] == numbers_x[-1])}\")\n",
    "print(f\"\\nnumbers_y = \" + str(numbers_y))\n",
    "print(f\"\\nresult is {str(numbers_y[0] == numbers_y[-1])}\")\n"
   ],
   "id": "3571ce4d43e556c7",
   "outputs": [
    {
     "name": "stdout",
     "output_type": "stream",
     "text": [
      "Given list: [10, 20, 30, 40, 10]\n",
      "\n",
      "result is True\n",
      "\n",
      "numbers_y = [75, 65, 35, 75, 30]\n",
      "\n",
      "result is False\n"
     ]
    }
   ],
   "execution_count": 8
  },
  {
   "metadata": {},
   "cell_type": "code",
   "outputs": [],
   "execution_count": null,
   "source": "",
   "id": "1d863595e77cbea2"
  },
  {
   "metadata": {},
   "cell_type": "markdown",
   "source": [
    "# 4) Iterate the given list (from #3) of numbers and print only those numbers which are divisible by 5\n",
    "Given list is  [10, 20, 33, 46, 55]\n",
    "Divisible by 5\n",
    "10\n",
    "20\n",
    "55"
   ],
   "id": "698e302c531e9dcc"
  },
  {
   "metadata": {
    "ExecuteTime": {
     "end_time": "2025-08-31T16:43:52.334914Z",
     "start_time": "2025-08-31T16:43:52.331600Z"
    }
   },
   "cell_type": "code",
   "source": [
    "numbers_z = [10, 20, 33, 46, 55]\n",
    "print(f\"Given list is {numbers_z}\")\n",
    "print(f\"Divisible by 5\")\n",
    "\n",
    "for number in numbers_z:\n",
    "    if number % 5 == 0:\n",
    "        print(number)"
   ],
   "id": "11c262751f510f12",
   "outputs": [
    {
     "name": "stdout",
     "output_type": "stream",
     "text": [
      "Given list is [10, 20, 33, 46, 55]\n",
      "Divisible by 5\n",
      "10\n",
      "20\n",
      "55\n"
     ]
    }
   ],
   "execution_count": 9
  },
  {
   "metadata": {},
   "cell_type": "markdown",
   "source": [
    "# 5) Write a program to find how many times substring “Anjali” appears in the given string.\n",
    "Given input:\n",
    "str_x = \"Anjali is good developer. Anjali is a writer\"\n",
    "Expected output:\n",
    "Anjali appeared 2 times"
   ],
   "id": "9b0038ef8df9afcb"
  },
  {
   "metadata": {
    "ExecuteTime": {
     "end_time": "2025-08-31T16:46:56.083278Z",
     "start_time": "2025-08-31T16:46:56.079974Z"
    }
   },
   "cell_type": "code",
   "source": [
    "str_x = \"Anjali is good developer. Anjali is a writer\"\n",
    "print(f\"Anjali appeared {str_x.count('Anjali')} times\")"
   ],
   "id": "d6fc2578dae19b43",
   "outputs": [
    {
     "name": "stdout",
     "output_type": "stream",
     "text": [
      "Anjali appeared 2 times\n"
     ]
    }
   ],
   "execution_count": 12
  },
  {
   "metadata": {},
   "cell_type": "markdown",
   "source": [
    "# 6) Print the following pattern:\n",
    "1\n",
    "2 2\n",
    "3 3 3\n",
    "4 4 4 4\n",
    "5 5 5 5 5"
   ],
   "id": "a8d8b731cef29874"
  },
  {
   "metadata": {
    "ExecuteTime": {
     "end_time": "2025-08-31T17:03:31.481463Z",
     "start_time": "2025-08-31T17:03:31.478440Z"
    }
   },
   "cell_type": "code",
   "source": [
    "for i in range (1, 6):\n",
    "    print((str(i) + \" \") * i)"
   ],
   "id": "7df5dcc4bf4dfb31",
   "outputs": [
    {
     "name": "stdout",
     "output_type": "stream",
     "text": [
      "1 \n",
      "2 2 \n",
      "3 3 3 \n",
      "4 4 4 4 \n",
      "5 5 5 5 5 \n"
     ]
    }
   ],
   "execution_count": 14
  },
  {
   "metadata": {},
   "cell_type": "markdown",
   "source": "# 7) Print a multiplication table from 1 to 100:\n",
   "id": "1806d9a40e88f80a"
  },
  {
   "metadata": {
    "ExecuteTime": {
     "end_time": "2025-08-31T17:55:43.839448Z",
     "start_time": "2025-08-31T17:55:43.835839Z"
    }
   },
   "cell_type": "code",
   "source": [
    "for i in range (1, 11):\n",
    "    for j in range (1, 11):\n",
    "        print(i * j, end=\"\\t\")\n",
    "    print(\" \")"
   ],
   "id": "1170e98f29992496",
   "outputs": [
    {
     "name": "stdout",
     "output_type": "stream",
     "text": [
      "1\t2\t3\t4\t5\t6\t7\t8\t9\t10\t \n",
      "2\t4\t6\t8\t10\t12\t14\t16\t18\t20\t \n",
      "3\t6\t9\t12\t15\t18\t21\t24\t27\t30\t \n",
      "4\t8\t12\t16\t20\t24\t28\t32\t36\t40\t \n",
      "5\t10\t15\t20\t25\t30\t35\t40\t45\t50\t \n",
      "6\t12\t18\t24\t30\t36\t42\t48\t54\t60\t \n",
      "7\t14\t21\t28\t35\t42\t49\t56\t63\t70\t \n",
      "8\t16\t24\t32\t40\t48\t56\t64\t72\t80\t \n",
      "9\t18\t27\t36\t45\t54\t63\t72\t81\t90\t \n",
      "10\t20\t30\t40\t50\t60\t70\t80\t90\t100\t \n"
     ]
    }
   ],
   "execution_count": 15
  },
  {
   "metadata": {},
   "cell_type": "markdown",
   "source": [
    "# 8) Let’s now use Numpy to convert a list to an array.\n",
    "First, convert the list of weights from a list to a Numpy array.\n",
    "Then, convert all of the weights from kilograms to pounds.\n",
    "Use the formula Celsius (°C) = Kelvin - 273.15 to convert Kelvin to Celsius.\n",
    "Lastly, print the resulting array of temperatures in Celsius.\n",
    "\n",
    "Given input:\n",
    "\n",
    "Temp_K = [390.65, 107.52, 225.25, 275.98, 318.18, 88.45]"
   ],
   "id": "d7d6ae729ba342ce"
  },
  {
   "metadata": {
    "ExecuteTime": {
     "end_time": "2025-08-31T20:14:40.542876Z",
     "start_time": "2025-08-31T20:14:40.502309Z"
    }
   },
   "cell_type": "code",
   "source": [
    "import numpy\n",
    "Temp_K = [390.65, 107.52, 225.25, 275.98, 318.18, 88.45]\n",
    "Temp_C_array = numpy.array(Temp_K)\n",
    "# Kelvin to Celsius conversion formula: Kelvin - 273.15\n",
    "print(Temp_C_array - 273.15)"
   ],
   "id": "a51b2fdc46ecc9a1",
   "outputs": [
    {
     "name": "stdout",
     "output_type": "stream",
     "text": [
      "[ 117.5  -165.63  -47.9     2.83   45.03 -184.7 ]\n"
     ]
    }
   ],
   "execution_count": 17
  },
  {
   "metadata": {},
   "cell_type": "markdown",
   "source": [
    "# 9) Let’s build a Dataframe in Pandas.\n",
    "\n",
    "Use a dictionary to create four fields:\n",
    "- Student (use Tommy, Fred, Gail, [your first name], Randy, and Ariel)\n",
    "- Hair Color (use Brown, Grey, Blonde, [your hair color] , Black and Brown)\n",
    "- Eye Color (use Hazel, Green, Blue, [your eye color], Hazel and Blue)\n",
    "- Weight in kilograms (60, 80, 76, 60, 88, 85)\n",
    "- Index the dataframe\n",
    "\n",
    "- Print out the entire dataframe\n",
    "- Print out hair color column as Pandas Series\n",
    "- Print out eye color column as Pandas DataFrame\n",
    "- Print out DataFrame with student and weight columns\n",
    "- Print out the second through fourth observations\n"
   ],
   "id": "ff51a97742108559"
  },
  {
   "metadata": {},
   "cell_type": "code",
   "outputs": [],
   "execution_count": null,
   "source": "",
   "id": "2b4e0c71aed58c55"
  },
  {
   "metadata": {
    "ExecuteTime": {
     "end_time": "2025-08-31T21:20:45.284045Z",
     "start_time": "2025-08-31T21:20:44.930943Z"
    }
   },
   "cell_type": "code",
   "source": [
    "import pandas as pd\n",
    "student_info = {\n",
    "    \"Student\": [\"Tommy\", \"Fred\", \"Gail\", \"Alex\", \"Randy\", \"Ariel\"],\n",
    "    \"Hair Color\": [\"Brown\", \"Grey\", \"Blonde\", \"Brown\", \"Black\", \"Brown\"],\n",
    "    \"Eye Color\": [\"Hazel\", \"Green\", \"Blue\", \"Brown\", \"Hazel\", \"Blue\"],\n",
    "    \"Weight in kilograms\": [60, 80, 76, 60, 88, 85]\n",
    "}\n",
    "df = pd.DataFrame(student_info)\n",
    "formatting = \"\\n\" + \"-\" * 50 + \"\\n\"\n",
    "print(f\"Student Info: \\n {df} {formatting}\")\n",
    "print(f\"Hair Color (as a Pandas Series): \\n {df[\"Hair Color\"]} {formatting}\")\n",
    "print(f\"Eye Color (as a Pandas Data Frame): \\n {df[[\"Eye Color\"]]} {formatting}\")\n",
    "print(f\"Student and Weight in kg (as a Pandas Data Frame): \\n {df[[\"Student\", \"Weight in kilograms\"]]} {formatting}\")\n",
    "print(f\"Second through fourth observations: \\n {df.iloc[1:4]} {formatting}\")"
   ],
   "id": "5ac0458168e00102",
   "outputs": [
    {
     "name": "stdout",
     "output_type": "stream",
     "text": [
      "Student Info: \n",
      "   Student Hair Color Eye Color  Weight in kilograms\n",
      "0   Tommy      Brown     Hazel                   60\n",
      "1    Fred       Grey     Green                   80\n",
      "2    Gail     Blonde      Blue                   76\n",
      "3    Alex      Brown     Brown                   60\n",
      "4   Randy      Black     Hazel                   88\n",
      "5   Ariel      Brown      Blue                   85 \n",
      "--------------------------------------------------\n",
      "\n",
      "Hair Color (as a Pandas Series): \n",
      " 0     Brown\n",
      "1      Grey\n",
      "2    Blonde\n",
      "3     Brown\n",
      "4     Black\n",
      "5     Brown\n",
      "Name: Hair Color, dtype: object \n",
      "--------------------------------------------------\n",
      "\n",
      "Eye Color (as a Pandas Data Frame): \n",
      "   Eye Color\n",
      "0     Hazel\n",
      "1     Green\n",
      "2      Blue\n",
      "3     Brown\n",
      "4     Hazel\n",
      "5      Blue \n",
      "--------------------------------------------------\n",
      "\n",
      "Student and Weight in kg (as a Pandas Data Frame): \n",
      "   Student  Weight in kilograms\n",
      "0   Tommy                   60\n",
      "1    Fred                   80\n",
      "2    Gail                   76\n",
      "3    Alex                   60\n",
      "4   Randy                   88\n",
      "5   Ariel                   85 \n",
      "--------------------------------------------------\n",
      "\n",
      "Second through fourth observations: \n",
      "   Student Hair Color Eye Color  Weight in kilograms\n",
      "1    Fred       Grey     Green                   80\n",
      "2    Gail     Blonde      Blue                   76\n",
      "3    Alex      Brown     Brown                   60 \n",
      "--------------------------------------------------\n",
      "\n"
     ]
    }
   ],
   "execution_count": 18
  }
 ],
 "metadata": {
  "kernelspec": {
   "display_name": "Python 3",
   "language": "python",
   "name": "python3"
  },
  "language_info": {
   "codemirror_mode": {
    "name": "ipython",
    "version": 2
   },
   "file_extension": ".py",
   "mimetype": "text/x-python",
   "name": "python",
   "nbconvert_exporter": "python",
   "pygments_lexer": "ipython2",
   "version": "2.7.6"
  }
 },
 "nbformat": 4,
 "nbformat_minor": 5
}
